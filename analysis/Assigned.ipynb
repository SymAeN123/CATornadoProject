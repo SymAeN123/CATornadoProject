{
 "cells": [
  {
   "cell_type": "code",
   "execution_count": 64,
   "metadata": {},
   "outputs": [],
   "source": [
    "import pandas as pd\n",
    "from datetime import datetime\n",
    "import numpy as np\n",
    "import matplotlib.pyplot as plt"
   ]
  },
  {
   "cell_type": "code",
   "execution_count": 67,
   "metadata": {},
   "outputs": [],
   "source": [
    "assigned = pd.read_csv(\"AssignedCases.csv\", encoding=\"cp1252\")\n",
    "assigned = assigned.replace(\n",
    "        '?', np.nan\n",
    "    ).astype(\n",
    "        {'date': 'float64', 'timeflt': 'float64'}\n",
    "    )\n",
    "assigned['datetime'] = pd.TimedeltaIndex(assigned['date']+assigned['timeflt'], unit='d') + datetime(1899,12,30)\n"
   ]
  },
  {
   "cell_type": "code",
   "execution_count": 68,
   "metadata": {},
   "outputs": [
    {
     "name": "stdout",
     "output_type": "stream",
     "text": [
      "        lat        lon       id     date   time   timeflt  Vikt      Vims  \\\n",
      "0  36.81667 -119.70000  5240955      NaN    NaN       NaN   NaN       NaN   \n",
      "1  34.90000 -114.61667  5268077      NaN    NaN       NaN   NaN       NaN   \n",
      "2  34.13333 -116.31667  5256791      NaN    NaN       NaN   NaN       NaN   \n",
      "3  36.93333 -120.11667  5290868      NaN    NaN       NaN   NaN       NaN   \n",
      "4  36.63333 -118.35000  5405920  38175.0  22:29  0.936806  -6.8 -3.498219   \n",
      "\n",
      "   Vokt      Voms  ...       Sr   Srx1000  rangenm  site  class     dmg  \\\n",
      "0   NaN       NaN  ...      NaN       NaN      NaN   NaN     F0  150000   \n",
      "1   NaN       NaN  ...      NaN       NaN      NaN   NaN     F1       0   \n",
      "2   NaN       NaN  ...      NaN       NaN      NaN   NaN     F0   10000   \n",
      "3   NaN       NaN  ...      NaN       NaN      NaN   NaN     F1  130000   \n",
      "4  12.6  6.481994  ...  0.00499  4.989708    65.23  KHNX     F0       0   \n",
      "\n",
      "                 type            terr  \\\n",
      "0           Landspout  Central Valley   \n",
      "1                 NaN   Mojave Desert   \n",
      "2                 NaN   Mojave Desert   \n",
      "3  Probably Landspout  Central Valley   \n",
      "4      Mini-Supercell          Sierra   \n",
      "\n",
      "                                               other  \\\n",
      "0  Based on radar, seems that the tornado occurre...   \n",
      "1        Radar went down a few hours before tornado.   \n",
      "2  KEYX which had the best chance has no data. Ot...   \n",
      "3  Notes state converging OFBs. No convection in ...   \n",
      "4  IMPORTANT: Lowest tilt KHNX runs into side of ...   \n",
      "\n",
      "                       datetime  \n",
      "0                           NaT  \n",
      "1                           NaT  \n",
      "2                           NaT  \n",
      "3                           NaT  \n",
      "4 2004-07-07 22:29:00.000038400  \n",
      "\n",
      "[5 rows x 25 columns]\n"
     ]
    }
   ],
   "source": [
    "print(assigned.head())"
   ]
  }
 ],
 "metadata": {
  "kernelspec": {
   "display_name": "Python 3",
   "language": "python",
   "name": "python3"
  },
  "language_info": {
   "codemirror_mode": {
    "name": "ipython",
    "version": 3
   },
   "file_extension": ".py",
   "mimetype": "text/x-python",
   "name": "python",
   "nbconvert_exporter": "python",
   "pygments_lexer": "ipython3",
   "version": "3.10.6"
  },
  "orig_nbformat": 4
 },
 "nbformat": 4,
 "nbformat_minor": 2
}
